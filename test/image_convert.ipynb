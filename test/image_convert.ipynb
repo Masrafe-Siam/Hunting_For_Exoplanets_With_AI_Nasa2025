{
 "cells": [
  {
   "cell_type": "code",
   "execution_count": 2,
   "id": "476ee4d0",
   "metadata": {},
   "outputs": [
    {
     "name": "stdout",
     "output_type": "stream",
     "text": [
      "Collecting rawpy\n",
      "  Downloading rawpy-0.25.1-cp312-cp312-win_amd64.whl.metadata (6.6 kB)\n",
      "Requirement already satisfied: imageio in d:\\masrafe\\coding\\python\\anaconda\\lib\\site-packages (2.33.1)\n",
      "Requirement already satisfied: numpy>=1.26.0 in d:\\masrafe\\coding\\python\\anaconda\\lib\\site-packages (from rawpy) (1.26.4)\n",
      "Requirement already satisfied: pillow>=8.3.2 in d:\\masrafe\\coding\\python\\anaconda\\lib\\site-packages (from imageio) (10.4.0)\n",
      "Downloading rawpy-0.25.1-cp312-cp312-win_amd64.whl (863 kB)\n",
      "   ---------------------------------------- 0.0/863.9 kB ? eta -:--:--\n",
      "   ------------ --------------------------- 262.1/863.9 kB ? eta -:--:--\n",
      "   ------------------------------------ --- 786.4/863.9 kB 6.7 MB/s eta 0:00:01\n",
      "   ------------------------------------ --- 786.4/863.9 kB 6.7 MB/s eta 0:00:01\n",
      "   ---------------------------------------- 863.9/863.9 kB 1.1 MB/s eta 0:00:00\n",
      "Installing collected packages: rawpy\n",
      "Successfully installed rawpy-0.25.1\n"
     ]
    }
   ],
   "source": [
    "!pip install rawpy imageio"
   ]
  },
  {
   "cell_type": "code",
   "execution_count": 5,
   "id": "d4ff377a",
   "metadata": {},
   "outputs": [
    {
     "name": "stdout",
     "output_type": "stream",
     "text": [
      "Converted: C:\\Users\\MBHS_PC\\Downloads\\_MG_8592.CR2 -> C:\\Users\\MBHS_PC\\Downloads\\_MG_8592.jpg\n"
     ]
    }
   ],
   "source": [
    "import rawpy\n",
    "import imageio.v2 as imageio\n",
    "import os\n",
    "\n",
    "def cr2_to_jpg(input_file, output_file=None):\n",
    "    # Read CR2 raw file\n",
    "    with rawpy.imread(input_file) as raw:\n",
    "        rgb = raw.postprocess()\n",
    "    \n",
    "    # If output not provided, save with same name but .jpg\n",
    "    if output_file is None:\n",
    "        output_file = os.path.splitext(input_file)[0] + \".jpg\"\n",
    "    \n",
    "    # Save as jpg\n",
    "    imageio.imwrite(output_file, rgb, quality=95)\n",
    "    print(f\"Converted: {input_file} -> {output_file}\")\n",
    "\n",
    "# Example usage\n",
    "cr2_to_jpg(r\"C:\\Users\\MBHS_PC\\Downloads\\_MG_8592.CR2\")\n"
   ]
  }
 ],
 "metadata": {
  "kernelspec": {
   "display_name": "base",
   "language": "python",
   "name": "python3"
  },
  "language_info": {
   "codemirror_mode": {
    "name": "ipython",
    "version": 3
   },
   "file_extension": ".py",
   "mimetype": "text/x-python",
   "name": "python",
   "nbconvert_exporter": "python",
   "pygments_lexer": "ipython3",
   "version": "3.12.7"
  }
 },
 "nbformat": 4,
 "nbformat_minor": 5
}
